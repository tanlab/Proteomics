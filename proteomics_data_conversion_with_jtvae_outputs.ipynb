{
 "cells": [
  {
   "cell_type": "code",
   "execution_count": null,
   "metadata": {},
   "outputs": [],
   "source": [
    "from tensorflow.python.keras import backend as K\n",
    "from tensorflow.python.keras.models import model_from_yaml\n",
    "from rdkit.Chem import AllChem\n",
    "from rdkit.Chem import MACCSkeys\n",
    "from optparse import OptionParser\n",
    "from sklearn.impute import KNNImputer\n",
    "import rdkit\n",
    "import rdkit.Chem as Chem\n",
    "import torch\n",
    "import pandas as pd\n",
    "import numpy as np\n",
    "import sys\n",
    "import subprocess\n",
    "import os\n",
    "sys.path.append('jtnn/')\n",
    "from jtnn import *"
   ]
  },
  {
   "cell_type": "code",
   "execution_count": null,
   "metadata": {},
   "outputs": [],
   "source": [
    "from cmapPy.pandasGEXpress.parse_gct import parse"
   ]
  },
  {
   "cell_type": "code",
   "execution_count": null,
   "metadata": {},
   "outputs": [],
   "source": [
    "data2 = parse('raw_data/annotated_GSE101406_Broad_LINCS_P100_Level4_DIFF_n1684x96.gctx') #for p100"
   ]
  },
  {
   "cell_type": "code",
   "execution_count": null,
   "metadata": {},
   "outputs": [],
   "source": [
    "#data2 = parse('annotated_GSE101406_Broad_LINCS_GCP_Level4_DIFF_n1712x59.gctx') #for gcp"
   ]
  },
  {
   "cell_type": "code",
   "execution_count": null,
   "metadata": {
    "scrolled": true
   },
   "outputs": [],
   "source": [
    "p100 = pd.DataFrame(KNNImputer(n_neighbors=5, weights=\"uniform\").fit_transform(data2.data_df),columns=data2.data_df.columns)\n",
    "p100 = p100.T\n",
    "p100.columns = data2.data_df.T.columns\n",
    "\n",
    "p100 = p100.T"
   ]
  },
  {
   "cell_type": "code",
   "execution_count": null,
   "metadata": {
    "scrolled": true
   },
   "outputs": [],
   "source": [
    "testtt = pd.read_csv('raw_data/GSE101406_Broad_LINCS_pert_info.txt',sep='\\t', index_col='pert_id')"
   ]
  },
  {
   "cell_type": "code",
   "execution_count": null,
   "metadata": {},
   "outputs": [],
   "source": [
    "smiless = []\n",
    "for idd in full['pert_id']:\n",
    "    smiless.append(testtt.loc[idd]['canonical_smiles'])"
   ]
  },
  {
   "cell_type": "code",
   "execution_count": null,
   "metadata": {},
   "outputs": [],
   "source": [
    "canons = []\n",
    "for smiles in smiless:\n",
    "    mol = Chem.MolFromSmiles(smiles)\n",
    "    canonical_smiles = Chem.MolToSmiles(mol, isomericSmiles=False)\n",
    "#     if canonical_smiles in canons:\n",
    "#         continue;\n",
    "    canons.append(canonical_smiles)"
   ]
  },
  {
   "cell_type": "code",
   "execution_count": null,
   "metadata": {
    "scrolled": true
   },
   "outputs": [],
   "source": [
    "canonical_smiles = pd.DataFrame(canons)\n",
    "canonical_smiles.columns = ['canonical_smiles']\n",
    "canonical_smiles = canonical_smiles.T\n",
    "canonical_smiles.columns = data2.data_df.columns\n",
    "\n",
    "canonical_smiles = canonical_smiles.T"
   ]
  },
  {
   "cell_type": "code",
   "execution_count": null,
   "metadata": {},
   "outputs": [],
   "source": [
    "\n",
    "full = pd.concat((pd.DataFrame(data2.col_metadata_df),canonical_smiles, p100.T),axis=1)\n"
   ]
  },
  {
   "cell_type": "code",
   "execution_count": null,
   "metadata": {},
   "outputs": [],
   "source": [
    "full.to_csv('raw_data/gcp_with_smiles_but_no_trash.csv')"
   ]
  },
  {
   "cell_type": "code",
   "execution_count": null,
   "metadata": {},
   "outputs": [],
   "source": [
    "full.drop([ 'det_plate', 'det_well', 'lsm_id', 'pert_dose',\n",
    "       'pert_dose_unit', 'pert_id', 'pert_iname', 'pert_time',\n",
    "       'pert_time_unit'],axis=1,inplace=True)"
   ]
  },
  {
   "cell_type": "code",
   "execution_count": null,
   "metadata": {},
   "outputs": [],
   "source": [
    "jtvae = pd.read_csv('Final Data/smiles_to_jtvae.csv')"
   ]
  },
  {
   "cell_type": "code",
   "execution_count": null,
   "metadata": {
    "scrolled": false
   },
   "outputs": [],
   "source": [
    "full.reset_index().merge(jtvae,on='canonical_smiles',how='left').to_csv('Final Data/GCP_no_metadata_with_jtvae.csv',index = False)"
   ]
  },
  {
   "cell_type": "code",
   "execution_count": null,
   "metadata": {},
   "outputs": [],
   "source": [
    "canons = list(dict.fromkeys(canons))"
   ]
  },
  {
   "cell_type": "code",
   "execution_count": null,
   "metadata": {},
   "outputs": [],
   "source": [
    "lg = rdkit.RDLogger.logger()\n",
    "lg.setLevel(rdkit.RDLogger.CRITICAL)\n",
    "\n",
    "vocab = [x.strip(\"\\r\\n \") for x in open(\"unique_canonical_train_vocab.txt\")]\n",
    "vocab = Vocab(vocab)\n",
    "\n",
    "hidden_size = 450\n",
    "latent_size = 56\n",
    "depth = 3\n",
    "stereo = True\n",
    "\n",
    "model = JTNNVAE(vocab, hidden_size, latent_size, depth, stereo=stereo)\n",
    "model.load_state_dict(torch.load(\"Models/model.iter-9-6000\"))\n",
    "# opts.model_path #MPNVAE-h450-L56-d3-beta0.001/model.iter-4\n",
    "\n",
    "model = model.cuda()"
   ]
  },
  {
   "cell_type": "code",
   "execution_count": null,
   "metadata": {},
   "outputs": [],
   "source": [
    "def jtvae_representation(smiles, mol):\n",
    "    koku = pd.DataFrame(columns=list(range(56)))\n",
    "\n",
    "#     smiles3D = Chem.MolToSmiles(mol, isomericSmiles=False)\n",
    "    dec_smiles = model.reconstruct(smiles, DataFrame=koku)\n",
    "\n",
    "    \n",
    "    del dec_smiles\n",
    "    torch.cuda.empty_cache()\n",
    "\n",
    "    return koku.values"
   ]
  },
  {
   "cell_type": "code",
   "execution_count": null,
   "metadata": {},
   "outputs": [],
   "source": [
    "jtvaes = []\n",
    "for smile in canons:\n",
    "    jtvaes.append(jtvae_representation(smiles=smile,mol=None))\n",
    "    torch.cuda.empty_cache()"
   ]
  }
 ],
 "metadata": {
  "kernelspec": {
   "display_name": "Python 3",
   "language": "python",
   "name": "python3"
  },
  "language_info": {
   "codemirror_mode": {
    "name": "ipython",
    "version": 3
   },
   "file_extension": ".py",
   "mimetype": "text/x-python",
   "name": "python",
   "nbconvert_exporter": "python",
   "pygments_lexer": "ipython3",
   "version": "3.8.10"
  }
 },
 "nbformat": 4,
 "nbformat_minor": 4
}
